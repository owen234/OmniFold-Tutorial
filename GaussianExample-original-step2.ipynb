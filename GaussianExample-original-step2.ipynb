{
 "cells": [
  {
   "cell_type": "markdown",
   "metadata": {},
   "source": [
    "## GaussianExample with original step2 method\n",
    "\n",
    "In the original version of the GaussianExample, step2 is implemented in a simpler way than in the papers.  Instead of updating the weights in each iteration of step2, it always uses weight=1 for the gen-level sample in the compaison.\n",
    "\n",
    "In the original OmniFold paper, they propose instead updating the weights of the previous iteration, rather than always starting from the beginning (weight=1).  I'll try to implement the original version here.\n"
   ]
  },
  {
   "cell_type": "code",
   "execution_count": 1,
   "metadata": {
    "ExecuteTime": {
     "end_time": "2020-11-17T03:48:59.924067Z",
     "start_time": "2020-11-17T03:48:57.190005Z"
    }
   },
   "outputs": [],
   "source": [
    "from __future__ import absolute_import, division, print_function\n",
    "\n",
    "import numpy as np\n",
    "from matplotlib import pyplot as plt\n",
    "\n",
    "from sklearn.model_selection import train_test_split\n",
    "\n",
    "import tensorflow as tf\n",
    "\n",
    "from tensorflow.keras.layers import Dense, Input\n",
    "from tensorflow.keras.models import Model\n",
    "from tensorflow.keras.callbacks import EarlyStopping\n",
    "\n",
    "import matplotlib as mpl\n",
    "mpl.rcParams.update(mpl.rcParamsDefault)\n",
    "mpl.rcParams[\"text.usetex\"]=False "
   ]
  },
  {
   "cell_type": "code",
   "execution_count": 2,
   "metadata": {},
   "outputs": [],
   "source": [
    "%matplotlib inline\n",
    "#from IPython.core.display import display, HTML\n",
    "#display(HTML(\"<style>.container { width:100% !important; }</style>\")"
   ]
  },
  {
   "cell_type": "code",
   "execution_count": 3,
   "metadata": {},
   "outputs": [
    {
     "name": "stdout",
     "output_type": "stream",
     "text": [
      "[PhysicalDevice(name='/physical_device:GPU:0', device_type='GPU'), PhysicalDevice(name='/physical_device:GPU:1', device_type='GPU')]\n"
     ]
    },
    {
     "name": "stderr",
     "output_type": "stream",
     "text": [
      "2023-01-26 20:12:55.063593: I tensorflow/compiler/xla/stream_executor/cuda/cuda_gpu_executor.cc:981] successful NUMA node read from SysFS had negative value (-1), but there must be at least one NUMA node, so returning NUMA node zero\n",
      "2023-01-26 20:12:55.063820: I tensorflow/compiler/xla/stream_executor/cuda/cuda_gpu_executor.cc:981] successful NUMA node read from SysFS had negative value (-1), but there must be at least one NUMA node, so returning NUMA node zero\n",
      "2023-01-26 20:12:55.080156: I tensorflow/compiler/xla/stream_executor/cuda/cuda_gpu_executor.cc:981] successful NUMA node read from SysFS had negative value (-1), but there must be at least one NUMA node, so returning NUMA node zero\n",
      "2023-01-26 20:12:55.080397: I tensorflow/compiler/xla/stream_executor/cuda/cuda_gpu_executor.cc:981] successful NUMA node read from SysFS had negative value (-1), but there must be at least one NUMA node, so returning NUMA node zero\n",
      "2023-01-26 20:12:55.080569: I tensorflow/compiler/xla/stream_executor/cuda/cuda_gpu_executor.cc:981] successful NUMA node read from SysFS had negative value (-1), but there must be at least one NUMA node, so returning NUMA node zero\n",
      "2023-01-26 20:12:55.080733: I tensorflow/compiler/xla/stream_executor/cuda/cuda_gpu_executor.cc:981] successful NUMA node read from SysFS had negative value (-1), but there must be at least one NUMA node, so returning NUMA node zero\n"
     ]
    }
   ],
   "source": [
    "gpus = tf.config.experimental.list_physical_devices('GPU')\n",
    "print(gpus)\n",
    "tf.config.experimental.set_virtual_device_configuration(gpus[0], [tf.config.experimental.VirtualDeviceConfiguration(memory_limit=1024)]) #in MB"
   ]
  },
  {
   "cell_type": "code",
   "execution_count": 4,
   "metadata": {},
   "outputs": [],
   "source": [
    "# Define default plot styles  \n",
    "\n",
    "from matplotlib import rc\n",
    "import matplotlib.font_manager\n",
    "\n",
    "rc('font', family='serif')\n",
    "rc('text', usetex=False)\n",
    "rc('font', size=22)\n",
    "rc('xtick', labelsize=15)\n",
    "rc('ytick', labelsize=15)\n",
    "rc('legend', fontsize=15)\n",
    "\n",
    "plot_style_0 = {\n",
    "    'histtype': 'step',\n",
    "    'color': 'black',\n",
    "    'linewidth': 2,\n",
    "    'linestyle': '--',\n",
    "    'density': False\n",
    "}\n",
    "\n",
    "plot_style_1 = {\n",
    "    'histtype': 'step',\n",
    "    'color': 'black',\n",
    "    'linewidth': 2,\n",
    "    'density': False\n",
    "}\n",
    "\n",
    "plot_style_2 = {'alpha': 0.5, 'density': False}"
   ]
  },
  {
   "cell_type": "code",
   "execution_count": 5,
   "metadata": {
    "ExecuteTime": {
     "end_time": "2020-11-17T03:48:59.971307Z",
     "start_time": "2020-11-17T03:48:59.954584Z"
    }
   },
   "outputs": [
    {
     "name": "stdout",
     "output_type": "stream",
     "text": [
      "2.11.0\n"
     ]
    }
   ],
   "source": [
    "# Check Versions\n",
    "import tensorflow as tf\n",
    "print(tf.__version__)"
   ]
  },
  {
   "cell_type": "markdown",
   "metadata": {},
   "source": [
    "# OmniFold Gaussian Toy Example"
   ]
  },
  {
   "cell_type": "markdown",
   "metadata": {},
   "source": [
    "## Setup the Datasets"
   ]
  },
  {
   "cell_type": "code",
   "execution_count": 6,
   "metadata": {
    "ExecuteTime": {
     "end_time": "2020-11-17T03:48:59.978107Z",
     "start_time": "2020-11-17T03:48:59.974831Z"
    }
   },
   "outputs": [],
   "source": [
    "mu0 = 0\n",
    "sigma0 = 1\n",
    "\n",
    "eff = 0.1 #fraction of true but not reco\n",
    "fake = 0.1 #fraction of reco but not true\n",
    "\n",
    "\n",
    "##-- original value\n",
    "#back = 0.1 #fraction of a background process that we would like to subtract\n",
    "\n"
   ]
  },
  {
   "cell_type": "markdown",
   "metadata": {},
   "source": [
    "## Owen: learning hyperparameters"
   ]
  },
  {
   "cell_type": "code",
   "execution_count": 7,
   "metadata": {},
   "outputs": [],
   "source": [
    "\n",
    "\n",
    "\n",
    "##-- originals\n",
    "\n",
    "max_epochs = 200\n",
    "batch_size_setval = 10000\n",
    "learning_rate_setval = 1e-3\n",
    "patience_setval = 10\n",
    "\n",
    "back = 0.1 #fraction of a background process that we would like to subtract\n",
    "background_param = (0, 1.2)  # background\n",
    "N = 10**5\n",
    "\n",
    "\n",
    "\n",
    "\n",
    "\n",
    "\n",
    "##-- alt1\n",
    "##-- more thorough set with more events, higher background, wider background width \n",
    "##  3 min + 50 min\n",
    "\n",
    "#max_epochs = 200\n",
    "#batch_size_setval = 1000\n",
    "#learning_rate_setval = 1e-4\n",
    "#patience_setval = 40\n",
    "\n",
    "#back = 0.2 #fraction of a background process that we would like to subtract\n",
    "#background_param = (0, 3)  # background\n",
    "#N = 3*10**5\n",
    "\n",
    "\n",
    "\n",
    "\n",
    "\n",
    "\n",
    "##-- alt2\n",
    "##-- more thorough set with a lot more events, higher background, wider background width \n",
    "##   About 3 hours.\n",
    "\n",
    "#max_epochs = 200\n",
    "#batch_size_setval = 1000\n",
    "#learning_rate_setval = 1e-4\n",
    "#patience_setval = 40\n",
    "\n",
    "#back = 0.2 #fraction of a background process that we would like to subtract\n",
    "#background_param = (0, 3)  # background\n",
    "#N = 10**6\n",
    "\n",
    "\n",
    "\n",
    "\n",
    "\n",
    "##-- alt5\n",
    "##   similar to alt4 but with sample size of 1M.\n",
    "##-- more thorough set with more events, higher background, wider background width \n",
    "##  about 30 min\n",
    "\n",
    "max_epochs = 200\n",
    "batch_size_setval = 16384\n",
    "learning_rate_setval = 1e-4\n",
    "patience_setval = 40\n",
    "\n",
    "back = 0.2 #fraction of a background process that we would like to subtract\n",
    "background_param = (0, 3)  # background\n",
    "N = 10**6\n",
    "\n"
   ]
  },
  {
   "cell_type": "code",
   "execution_count": 8,
   "metadata": {
    "ExecuteTime": {
     "end_time": "2020-11-17T03:49:24.308730Z",
     "start_time": "2020-11-17T03:48:59.981078Z"
    }
   },
   "outputs": [
    {
     "name": "stdout",
     "output_type": "stream",
     "text": [
      "CPU times: user 4.91 s, sys: 56.6 ms, total: 4.97 s\n",
      "Wall time: 4.97 s\n"
     ]
    }
   ],
   "source": [
    "%%time\n",
    "\n",
    "#N = 10**5\n",
    "\n",
    "\n",
    "# param = (mu, sigma)\n",
    "theta0_param = (mu0, sigma0)  # synthetic sample\n",
    "theta_unknown_param = (0.2, 0.8)  # this is the data (the target)\n",
    "#background_param = (0, 1.2)  # background\n",
    "#background_param = (0, 3)  # background\n",
    "epsilon = sigma0 / 2.  # Smearing width\n",
    "\n",
    "dummyval = -10 #a value for examples that don't pass one of the measured/ideal selections\n",
    "\n",
    "#Synthetic\n",
    "theta0_G = np.random.normal(theta0_param[0], theta0_param[1],N)  # Generator-level synthetic sample\n",
    "theta0_S = np.array([(x + np.random.normal(0, epsilon)) for x in theta0_G])  # Detector smearing for synthetic sample\n",
    "pass_reco = np.random.binomial(1,1.-eff,len(theta0_G))\n",
    "pass_truth = np.random.binomial(1,1.-fake,len(theta0_G)) # what a concise Toy MC with cuts!\n",
    "theta0_S[pass_reco==0] = dummyval\n",
    "theta0_G[pass_truth==0] = dummyval\n",
    "\n",
    "theta0_background = np.random.normal(background_param[0],background_param[1], int(N*back))\n",
    "theta0_S_withback = np.concatenate([theta0_S,theta0_background]) #smeared synthetic (mc_reco)+background\n",
    "theta0_G_withback = np.concatenate([theta0_G,-np.ones(int(N*back))*dummyval]) #gen synthetic (mc_truth)+background\n",
    "\n",
    "theta0 = np.stack([theta0_G, theta0_S], axis=1)\n",
    "labels0 = np.zeros(len(theta0))\n",
    "\n",
    "#Natural\n",
    "theta_unknown_G = np.random.normal(theta_unknown_param[0],theta_unknown_param[1], N) # Nature, particle-level analog\n",
    "theta_unknown_S = np.array([(x + np.random.normal(0, epsilon)) for x in theta_unknown_G]) # Measured Data analog\n",
    "pass_reco = np.random.binomial(1,1.-eff,len(theta_unknown_G))\n",
    "pass_truth = np.random.binomial(1,1.-fake,len(theta_unknown_G))\n",
    "theta_unknown_S[pass_reco==0] = dummyval\n",
    "theta_unknown_G[pass_truth==0] = dummyval #emulates cuts done in an analysis\n",
    "\n",
    "theta_background = np.random.normal(background_param[0],background_param[1], int(N*back))\n",
    "theta_unknown_S_withback = np.concatenate([theta_unknown_S,theta_background]) #Nature+background\n",
    "theta_unknown_G_withback = np.concatenate([theta_unknown_G,-np.ones(int(N*back))*dummyval]) #Data+Background\n",
    "\n",
    "theta_unknown = np.stack([theta_unknown_G, theta_unknown_S], axis=1)\n",
    "labels_unknown = np.ones(len(theta_unknown))"
   ]
  },
  {
   "cell_type": "code",
   "execution_count": 9,
   "metadata": {},
   "outputs": [
    {
     "data": {
      "text/plain": [
       "array([-10.        ,   0.7809088 ,  -0.56505888, ...,   0.33156939,\n",
       "        -0.36750336, -10.        ])"
      ]
     },
     "execution_count": 9,
     "metadata": {},
     "output_type": "execute_result"
    }
   ],
   "source": [
    "theta0_G"
   ]
  },
  {
   "cell_type": "code",
   "execution_count": 10,
   "metadata": {},
   "outputs": [
    {
     "data": {
      "text/plain": [
       "array([ 1.63726592,  0.64124504, -0.41135563, ...,  0.33854484,\n",
       "       -0.60148754,  0.49806421])"
      ]
     },
     "execution_count": 10,
     "metadata": {},
     "output_type": "execute_result"
    }
   ],
   "source": [
    "theta0_S"
   ]
  },
  {
   "cell_type": "code",
   "execution_count": 11,
   "metadata": {},
   "outputs": [
    {
     "data": {
      "text/plain": [
       "array([[-10.        ,   1.63726592],\n",
       "       [  0.7809088 ,   0.64124504],\n",
       "       [ -0.56505888,  -0.41135563],\n",
       "       ...,\n",
       "       [  0.33156939,   0.33854484],\n",
       "       [ -0.36750336,  -0.60148754],\n",
       "       [-10.        ,   0.49806421]])"
      ]
     },
     "execution_count": 11,
     "metadata": {},
     "output_type": "execute_result"
    }
   ],
   "source": [
    "theta0"
   ]
  },
  {
   "cell_type": "code",
   "execution_count": 12,
   "metadata": {},
   "outputs": [
    {
     "data": {
      "text/plain": [
       "array([0., 0., 0., ..., 0., 0., 0.])"
      ]
     },
     "execution_count": 12,
     "metadata": {},
     "output_type": "execute_result"
    }
   ],
   "source": [
    "labels0"
   ]
  },
  {
   "cell_type": "code",
   "execution_count": 13,
   "metadata": {},
   "outputs": [
    {
     "data": {
      "text/plain": [
       "(1000000,)"
      ]
     },
     "execution_count": 13,
     "metadata": {},
     "output_type": "execute_result"
    }
   ],
   "source": [
    "labels0.shape"
   ]
  },
  {
   "cell_type": "code",
   "execution_count": 14,
   "metadata": {},
   "outputs": [
    {
     "data": {
      "text/plain": [
       "(1000000, 2)"
      ]
     },
     "execution_count": 14,
     "metadata": {},
     "output_type": "execute_result"
    }
   ],
   "source": [
    "theta0.shape"
   ]
  },
  {
   "cell_type": "code",
   "execution_count": 15,
   "metadata": {},
   "outputs": [
    {
     "data": {
      "text/plain": [
       "array([1., 1., 1., ..., 1., 1., 1.])"
      ]
     },
     "execution_count": 15,
     "metadata": {},
     "output_type": "execute_result"
    }
   ],
   "source": [
    "labels_unknown"
   ]
  },
  {
   "cell_type": "code",
   "execution_count": 16,
   "metadata": {},
   "outputs": [
    {
     "data": {
      "text/plain": [
       "(1000000,)"
      ]
     },
     "execution_count": 16,
     "metadata": {},
     "output_type": "execute_result"
    }
   ],
   "source": [
    "labels_unknown.shape"
   ]
  },
  {
   "cell_type": "code",
   "execution_count": 17,
   "metadata": {
    "ExecuteTime": {
     "end_time": "2020-11-17T03:49:29.592393Z",
     "start_time": "2020-11-17T03:49:24.310793Z"
    }
   },
   "outputs": [
    {
     "name": "stderr",
     "output_type": "stream",
     "text": [
      "/tmp/ipykernel_3168250/177983796.py:30: UserWarning: Matplotlib is currently using module://matplotlib_inline.backend_inline, which is a non-GUI backend, so cannot show the figure.\n",
      "  fig.show()\n"
     ]
    },
    {
     "data": {
      "image/png": "[encoded data removed]",
      "text/plain": [
       "<Figure size 864x360 with 2 Axes>"
      ]
     },
     "metadata": {
      "needs_background": "light"
     },
     "output_type": "display_data"
    }
   ],
   "source": [
    "bins = np.linspace(-11, 11, 41)\n",
    "\n",
    "fig, ax = plt.subplots(1,\n",
    "                       2,\n",
    "                       figsize=(12, 5),\n",
    "                       constrained_layout=True,\n",
    "                       sharey=True)\n",
    "\n",
    "ax[0].set_xlabel(r'$x$')\n",
    "ax[0].set_ylabel(r'Events per bin')\n",
    "ax[0].hist(theta0_G[theta0_G!=dummyval], bins=bins, **plot_style_2, label='Generation')\n",
    "ax[0].hist(theta0_S_withback[theta0_S_withback!=dummyval], bins=bins, **plot_style_2, label='Simulation')\n",
    "ax[0].hist(theta0_S_withback[theta0_G_withback==-dummyval], bins=bins, color=\"darkorange\", label='Background')\n",
    "legend = ax[0].legend(\n",
    "    title=r'Synthetic''\\n''($\\mu$, $\\sigma$) = {}'.format(theta0_param),\n",
    "    loc='upper left',\n",
    "    frameon=False)\n",
    "plt.setp(legend.get_title(), multialignment='center')\n",
    "\n",
    "ax[1].set_xlabel(r'$x$')\n",
    "ax[1].hist(theta_unknown_G[theta_unknown_G!=dummyval], bins=bins, **plot_style_2, label='Truth',color=\"green\")\n",
    "ax[1].hist(theta_unknown_S_withback[theta_unknown_S_withback!=dummyval], bins=bins, **plot_style_2, label='Data',color=\"black\")\n",
    "ax[1].hist(theta_unknown_S_withback[theta_unknown_G_withback==-dummyval], bins=bins, label='Background',color=\"black\")\n",
    "legend = ax[1].legend(\n",
    "    title=r'Natural''\\n''($\\mu$, $\\sigma$) = {}'.format(theta_unknown_param),\n",
    "    loc='upper left',\n",
    "    frameon=False)\n",
    "plt.setp(legend.get_title(), multialignment='center')\n",
    "\n",
    "fig.show()"
   ]
  },
  {
   "cell_type": "markdown",
   "metadata": {},
   "source": [
    "## Unfold Data"
   ]
  },
  {
   "cell_type": "code",
   "execution_count": 18,
   "metadata": {
    "ExecuteTime": {
     "end_time": "2020-11-17T03:49:29.597528Z",
     "start_time": "2020-11-17T03:49:29.594288Z"
    }
   },
   "outputs": [],
   "source": [
    "iterations = 4"
   ]
  },
  {
   "cell_type": "code",
   "execution_count": 19,
   "metadata": {
    "ExecuteTime": {
     "end_time": "2020-11-17T03:49:29.688675Z",
     "start_time": "2020-11-17T03:49:29.599367Z"
    }
   },
   "outputs": [
    {
     "name": "stderr",
     "output_type": "stream",
     "text": [
      "2023-01-26 20:13:01.025923: I tensorflow/compiler/xla/stream_executor/cuda/cuda_gpu_executor.cc:981] successful NUMA node read from SysFS had negative value (-1), but there must be at least one NUMA node, so returning NUMA node zero\n",
      "2023-01-26 20:13:01.026252: I tensorflow/compiler/xla/stream_executor/cuda/cuda_gpu_executor.cc:981] successful NUMA node read from SysFS had negative value (-1), but there must be at least one NUMA node, so returning NUMA node zero\n",
      "2023-01-26 20:13:01.026429: I tensorflow/compiler/xla/stream_executor/cuda/cuda_gpu_executor.cc:981] successful NUMA node read from SysFS had negative value (-1), but there must be at least one NUMA node, so returning NUMA node zero\n",
      "2023-01-26 20:13:01.026589: I tensorflow/compiler/xla/stream_executor/cuda/cuda_gpu_executor.cc:981] successful NUMA node read from SysFS had negative value (-1), but there must be at least one NUMA node, so returning NUMA node zero\n",
      "2023-01-26 20:13:01.026748: I tensorflow/compiler/xla/stream_executor/cuda/cuda_gpu_executor.cc:981] successful NUMA node read from SysFS had negative value (-1), but there must be at least one NUMA node, so returning NUMA node zero\n",
      "2023-01-26 20:13:01.026908: I tensorflow/compiler/xla/stream_executor/cuda/cuda_gpu_executor.cc:981] successful NUMA node read from SysFS had negative value (-1), but there must be at least one NUMA node, so returning NUMA node zero\n",
      "2023-01-26 20:13:01.601575: I tensorflow/compiler/xla/stream_executor/cuda/cuda_gpu_executor.cc:981] successful NUMA node read from SysFS had negative value (-1), but there must be at least one NUMA node, so returning NUMA node zero\n",
      "2023-01-26 20:13:01.601801: I tensorflow/compiler/xla/stream_executor/cuda/cuda_gpu_executor.cc:981] successful NUMA node read from SysFS had negative value (-1), but there must be at least one NUMA node, so returning NUMA node zero\n",
      "2023-01-26 20:13:01.601977: I tensorflow/compiler/xla/stream_executor/cuda/cuda_gpu_executor.cc:981] successful NUMA node read from SysFS had negative value (-1), but there must be at least one NUMA node, so returning NUMA node zero\n",
      "2023-01-26 20:13:01.602144: I tensorflow/compiler/xla/stream_executor/cuda/cuda_gpu_executor.cc:981] successful NUMA node read from SysFS had negative value (-1), but there must be at least one NUMA node, so returning NUMA node zero\n",
      "2023-01-26 20:13:01.602311: I tensorflow/compiler/xla/stream_executor/cuda/cuda_gpu_executor.cc:981] successful NUMA node read from SysFS had negative value (-1), but there must be at least one NUMA node, so returning NUMA node zero\n",
      "2023-01-26 20:13:01.602460: I tensorflow/core/common_runtime/gpu/gpu_device.cc:1613] Created device /job:localhost/replica:0/task:0/device:GPU:0 with 1024 MB memory:  -> device: 0, name: NVIDIA GeForce RTX 3090, pci bus id: 0000:41:00.0, compute capability: 8.6\n",
      "2023-01-26 20:13:01.602746: I tensorflow/compiler/xla/stream_executor/cuda/cuda_gpu_executor.cc:981] successful NUMA node read from SysFS had negative value (-1), but there must be at least one NUMA node, so returning NUMA node zero\n",
      "2023-01-26 20:13:01.602887: I tensorflow/core/common_runtime/gpu/gpu_device.cc:1613] Created device /job:localhost/replica:0/task:0/device:GPU:1 with 22263 MB memory:  -> device: 1, name: NVIDIA GeForce RTX 3090, pci bus id: 0000:61:00.0, compute capability: 8.6\n"
     ]
    }
   ],
   "source": [
    "xvals_1 = np.concatenate((theta0_S, theta_unknown_S)) #synthetic, measured.\n",
    "yvals_1 = np.concatenate((labels0, labels_unknown)) \n",
    "#QUESTION: At what point are theses mixed? Avoid [0,0,0...0,1,1...1,1,1]\n",
    "#I think at test_train_split function\n",
    "\n",
    "xvals_2 = np.concatenate((theta0_G, theta0_G)) \n",
    "#QUESTION whay 0_G twice? Because theta_unknown_G is ultimate target (particle level – nature), \n",
    "#and can't be used as an input to the training.\n",
    "yvals_2 = np.concatenate((labels0, labels_unknown))\n",
    "\n",
    "weights = np.empty(shape=(iterations, 2, len(theta0)))\n",
    "# shape = (iteration, step, event)\n",
    "\n",
    "\n",
    "nn_output = np.zeros( shape=(iterations, 2, len(theta0)))\n",
    "\n",
    "inputs = Input((1, ))\n",
    "hidden_layer_1 = Dense(50, activation='relu')(inputs)\n",
    "hidden_layer_2 = Dense(50, activation='relu')(hidden_layer_1)\n",
    "hidden_layer_3 = Dense(50, activation='relu')(hidden_layer_2)\n",
    "outputs = Dense(1, activation='sigmoid')(hidden_layer_3)\n",
    "\n",
    "model = Model(inputs=inputs, outputs=outputs)\n",
    "\n",
    "#earlystopping = EarlyStopping(patience=10,\n",
    "#                              verbose=1,\n",
    "#                              restore_best_weights=True)\n",
    "\n",
    "earlystopping = EarlyStopping(patience=patience_setval,\n",
    "                              verbose=1,\n",
    "                              restore_best_weights=True)"
   ]
  },
  {
   "cell_type": "code",
   "execution_count": 20,
   "metadata": {},
   "outputs": [
    {
     "data": {
      "text/plain": [
       "array([ 1.63726592,  0.64124504, -0.41135563, ...,  0.20327187,\n",
       "        0.93358888,  0.59839889])"
      ]
     },
     "execution_count": 20,
     "metadata": {},
     "output_type": "execute_result"
    }
   ],
   "source": [
    "xvals_1"
   ]
  },
  {
   "cell_type": "code",
   "execution_count": 21,
   "metadata": {},
   "outputs": [
    {
     "data": {
      "text/plain": [
       "(2000000,)"
      ]
     },
     "execution_count": 21,
     "metadata": {},
     "output_type": "execute_result"
    }
   ],
   "source": [
    "xvals_1.shape"
   ]
  },
  {
   "cell_type": "code",
   "execution_count": 22,
   "metadata": {},
   "outputs": [
    {
     "data": {
      "text/plain": [
       "array([0., 0., 0., ..., 1., 1., 1.])"
      ]
     },
     "execution_count": 22,
     "metadata": {},
     "output_type": "execute_result"
    }
   ],
   "source": [
    "yvals_1"
   ]
  },
  {
   "cell_type": "code",
   "execution_count": 23,
   "metadata": {},
   "outputs": [
    {
     "data": {
      "text/plain": [
       "(2000000,)"
      ]
     },
     "execution_count": 23,
     "metadata": {},
     "output_type": "execute_result"
    }
   ],
   "source": [
    "yvals_1.shape"
   ]
  },
  {
   "cell_type": "code",
   "execution_count": 24,
   "metadata": {
    "ExecuteTime": {
     "end_time": "2020-11-17T03:49:29.695163Z",
     "start_time": "2020-11-17T03:49:29.690659Z"
    }
   },
   "outputs": [],
   "source": [
    "# from NN (DCTR)\n",
    "def reweight(events):\n",
    "    f = model.predict(events, batch_size=10000)\n",
    "    weights = f / (1. - f)\n",
    "    return np.squeeze(np.nan_to_num(weights)) \n",
    "#Question: how is the model passed? Stored in memory before function is called?\n",
    "#QUESTION: is this p(w,X)/p(w',X'), where p is PDF of (x)?\n",
    "#reweights sim to data, then "
   ]
  },
  {
   "cell_type": "code",
   "execution_count": 25,
   "metadata": {
    "scrolled": true
   },
   "outputs": [
    {
     "name": "stdout",
     "output_type": "stream",
     "text": [
      "CPU times: user 124 ms, sys: 8.19 ms, total: 132 ms\n",
      "Wall time: 132 ms\n"
     ]
    }
   ],
   "source": [
    "%%time\n",
    "\n",
    "#We can do the background subtraction as part of the iterative unfolding, but it is easier to do it first.\n",
    "\n",
    "\n",
    "    \n",
    "x_data_and_MCback = np.concatenate([theta0_S_withback[theta0_G_withback==-dummyval],\n",
    "                                    theta_unknown_S_withback[theta_unknown_S_withback!=dummyval],\n",
    "                                    theta_unknown_S_withback[theta_unknown_S_withback!=dummyval]])\n",
    "    \n",
    "y_data_and_MCback = np.concatenate([np.ones(len(theta0_S_withback[theta0_G_withback==-dummyval])),\n",
    "                                    np.ones(len(theta_unknown_S_withback[theta_unknown_S_withback!=dummyval])),\n",
    "                                    np.zeros(len(theta_unknown_S_withback[theta_unknown_S_withback!=dummyval]))])\n",
    "    \n",
    "W_data_and_MCback = np.concatenate([-1.*np.ones(len(theta0_S_withback[theta0_G_withback==-dummyval])),\n",
    "                                    np.ones(len(theta_unknown_S_withback[theta_unknown_S_withback!=dummyval])),\n",
    "                                    np.ones(len(theta_unknown_S_withback[theta_unknown_S_withback!=dummyval]))])\n",
    "\n",
    "X_train_1, X_test_1, Y_train_1, Y_test_1, w_train_1, w_test_1 = train_test_split(\n",
    "    x_data_and_MCback, y_data_and_MCback, W_data_and_MCback)\n",
    "\n",
    "    \n"
   ]
  },
  {
   "cell_type": "markdown",
   "metadata": {},
   "source": [
    "## Owen's notes\n",
    "\n",
    "See my more detailed notes in this file on my laptop: /Users/owen/work/eic/omnifold/2023-01-23-notes.docx\n",
    "\n",
    "Here's a summary of how the BG subtraction works.  \n",
    "\n",
    "- The NN is given a binary classification task where the two categories are signal-only (y=1, call this a) and signal plus background (y=0, call this b).\n",
    "\n",
    "- The signal-only sample is constructed by combining the \"data\" (theta_unknown_S_withback[theta_unknown_S_withback!=dummyval]) with a BG sample (theta0_S_withback[theta0_G_withback==-dummyval]), where the data weight is +1 and the BG weight is -1.  This does the BG subtraction in the loss function because the sum of the BG sample, with weight -1, will cancel the sum of the BG component of the data.\n",
    "\n",
    "- The NN output f is an estimation of the probability that an event is in the class a and this is approximately a/(a+b).\n",
    "\n",
    "- The signal fraction is given by a/b.  To get this from f, it's Fr(sig) = f/(1-f) = a/b, which is also the likelihood ratio or the ratio of the probabilities of the two classes.\n",
    "\n",
    "This BG subtraction trick is to cancel it in the loss function by adding it to the signal+bg sample with a negative weight.\n"
   ]
  },
  {
   "cell_type": "code",
   "execution_count": null,
   "metadata": {
    "scrolled": true
   },
   "outputs": [],
   "source": [
    "%%time\n",
    "\n",
    "#model.compile(loss='binary_crossentropy',\n",
    "#              optimizer='Adam',\n",
    "#              metrics=['accuracy'])\n",
    "\n",
    "#model.compile(loss='binary_crossentropy',\n",
    "#              optimizer='Adam',\n",
    "#              metrics=['accuracy'],\n",
    "#              weighted_metrics=[])\n",
    "\n",
    "\n",
    "#training_hist = model.fit(X_train_1,\n",
    "#          Y_train_1,\n",
    "#          sample_weight=w_train_1,\n",
    "#          epochs=200,\n",
    "#          batch_size=10000,\n",
    "#          validation_data=(X_test_1, Y_test_1, w_test_1),\n",
    "#          callbacks=[earlystopping],\n",
    "#          verbose=1)\n",
    "\n",
    "the_optimizer = tf.keras.optimizers.Adam( learning_rate=learning_rate_setval )\n",
    "\n",
    "model.compile(loss='binary_crossentropy',\n",
    "              optimizer=the_optimizer,\n",
    "              metrics=['accuracy'],\n",
    "              weighted_metrics=[])\n",
    "\n",
    "\n",
    "training_hist = model.fit(X_train_1,\n",
    "          Y_train_1,\n",
    "          sample_weight=w_train_1,\n",
    "          epochs=100,\n",
    "          batch_size=batch_size_setval,\n",
    "          validation_data=(X_test_1, Y_test_1, w_test_1),\n",
    "          callbacks=[earlystopping],\n",
    "          verbose=1)"
   ]
  },
  {
   "cell_type": "code",
   "execution_count": null,
   "metadata": {},
   "outputs": [],
   "source": [
    "plt.plot( training_hist.history['loss'])\n",
    "plt.plot( training_hist.history['val_loss'])"
   ]
  },
  {
   "cell_type": "code",
   "execution_count": null,
   "metadata": {},
   "outputs": [],
   "source": [
    "w_data = reweight(theta_unknown_S_withback[theta_unknown_S_withback!=dummyval])"
   ]
  },
  {
   "cell_type": "code",
   "execution_count": null,
   "metadata": {},
   "outputs": [],
   "source": [
    "w_data_bgsub_only = w_data"
   ]
  },
  {
   "cell_type": "code",
   "execution_count": null,
   "metadata": {
    "scrolled": false
   },
   "outputs": [],
   "source": [
    "i=0\n",
    "bins = np.linspace(-11, 11, 41)\n",
    "\n",
    "fig, ax = plt.subplots(1,\n",
    "                       2,\n",
    "                       figsize=(12, 5),\n",
    "                       constrained_layout=True,\n",
    "                       sharey=True)\n",
    "\n",
    "ax[0].set_xlabel(r'$x$')\n",
    "ax[0].set_ylabel('Events per bin')\n",
    "ax[0].hist(theta0_G[theta0_G!=dummyval], bins=bins, **plot_style_2, label='Generation')\n",
    "ax[0].hist(theta0_S[theta0_S!=dummyval], bins=bins, **plot_style_2, label='Simulation (no back.)')\n",
    "legend = ax[0].legend(\n",
    "    title='Synthetic\\n($\\mu$, $\\sigma$) = {}'.format(theta0_param),\n",
    "    loc='upper left',\n",
    "    frameon=False)\n",
    "plt.setp(legend.get_title(), multialignment='center')\n",
    "\n",
    "ax[1].set_xlabel('$x$')\n",
    "#ax[1].hist(theta_unknown_G[theta_unknown_G!=dummyval], bins=bins, **plot_style_2, label='Truth',color=\"green\")\n",
    "ax[1].hist(theta_unknown_S[theta_unknown_S!=dummyval], bins=bins, **plot_style_2, label='Data (no back.)',color=\"black\")\n",
    "ax[1].hist(theta_unknown_S_withback[theta_unknown_S_withback!=dummyval], bins=bins, histtype=\"step\", label='Data (reweighted)',color=\"black\",weights=w_data)\n",
    "legend = ax[1].legend(\n",
    "    title='Natural\\n($\\mu$, $\\sigma$) = {}'.format(theta_unknown_param),\n",
    "    loc='upper left',\n",
    "    frameon=False)\n",
    "plt.setp(legend.get_title(), multialignment='center')\n",
    "\n",
    "fig.show()\n",
    "plt.savefig(\"plot_\"+str(i)+\"_datareweight.pdf\")"
   ]
  },
  {
   "cell_type": "code",
   "execution_count": null,
   "metadata": {},
   "outputs": [],
   "source": [
    "model_output_bgsub = model.predict(theta_unknown_S_withback[theta_unknown_S_withback!=dummyval], batch_size=10000)"
   ]
  },
  {
   "cell_type": "code",
   "execution_count": null,
   "metadata": {},
   "outputs": [],
   "source": [
    "model_output_bgsub"
   ]
  },
  {
   "cell_type": "code",
   "execution_count": null,
   "metadata": {},
   "outputs": [],
   "source": [
    "model_output_bgsub.shape"
   ]
  },
  {
   "cell_type": "code",
   "execution_count": null,
   "metadata": {},
   "outputs": [],
   "source": [
    "squeezed_model_output = np.squeeze(model_output_bgsub)"
   ]
  },
  {
   "cell_type": "code",
   "execution_count": null,
   "metadata": {},
   "outputs": [],
   "source": [
    "squeezed_model_output"
   ]
  },
  {
   "cell_type": "code",
   "execution_count": null,
   "metadata": {},
   "outputs": [],
   "source": [
    "squeezed_model_output.shape"
   ]
  },
  {
   "cell_type": "code",
   "execution_count": null,
   "metadata": {},
   "outputs": [],
   "source": [
    "fig,ax = plt.subplots(2,2,figsize=(20,20))\n",
    "\n",
    "\n",
    "\n",
    "ax[0][0].hist( theta_unknown_S_withback[theta_unknown_S_withback!=dummyval], range=[-10,10], bins=50, alpha=0.8)\n",
    "ax[0][0].hist( theta_unknown_S[theta_unknown_S!=dummyval], range=[-10,10], bins=50, alpha=0.8)\n",
    "ax[0][0].hist( theta_background, range=[-10,10], bins=50, histtype=\"step\")\n",
    "\n",
    "ax[0][1].hist( squeezed_model_output, bins=90 )\n",
    "\n",
    "\n",
    "ax[1][0].hist2d(theta_unknown_S_withback[theta_unknown_S_withback!=dummyval],\n",
    "         squeezed_model_output,\n",
    "         density=True,\n",
    "         bins=200,\n",
    "         range=([-10,10],[-0.1,1]),\n",
    "         norm=mpl.colors.LogNorm())\n",
    "ax[1][0].grid()\n",
    "\n",
    "ax[1][1].hist2d(theta_unknown_S_withback[theta_unknown_S_withback!=dummyval],\n",
    "         w_data,\n",
    "         density=True,\n",
    "         bins=200,\n",
    "         range=([-10,10],[-0.1,1]),\n",
    "         norm=mpl.colors.LogNorm())\n",
    "ax[1][1].grid()\n",
    "\n",
    "plt.show()"
   ]
  },
  {
   "cell_type": "code",
   "execution_count": null,
   "metadata": {},
   "outputs": [],
   "source": [
    "hist_data_all = plt.hist( theta_unknown_S_withback[theta_unknown_S_withback!=dummyval], range=[-10,10], bins=50 )\n",
    "hist_data_signal = plt.hist( theta_unknown_S[theta_unknown_S!=dummyval], range=[-10,10], bins=50)"
   ]
  },
  {
   "cell_type": "code",
   "execution_count": null,
   "metadata": {},
   "outputs": [],
   "source": [
    "hist_data_all"
   ]
  },
  {
   "cell_type": "code",
   "execution_count": null,
   "metadata": {},
   "outputs": [],
   "source": [
    "hist_data_all[0]"
   ]
  },
  {
   "cell_type": "code",
   "execution_count": null,
   "metadata": {},
   "outputs": [],
   "source": [
    "hist_axis = hist_data_all[1]"
   ]
  },
  {
   "cell_type": "code",
   "execution_count": null,
   "metadata": {},
   "outputs": [],
   "source": [
    "hist_axis"
   ]
  },
  {
   "cell_type": "code",
   "execution_count": null,
   "metadata": {},
   "outputs": [],
   "source": [
    "hist_axis_centers = np.ones(50)\n",
    "for i in range(0,50):\n",
    "    hist_axis_centers[i] = 0.5*(hist_axis[i]+hist_axis[i+1])\n",
    "    #print(i, hist_axis_centers[i])"
   ]
  },
  {
   "cell_type": "code",
   "execution_count": null,
   "metadata": {},
   "outputs": [],
   "source": [
    "signal_frac = (hist_data_signal[0])/(hist_data_all[0])"
   ]
  },
  {
   "cell_type": "code",
   "execution_count": null,
   "metadata": {},
   "outputs": [],
   "source": [
    "signal_frac"
   ]
  },
  {
   "cell_type": "code",
   "execution_count": null,
   "metadata": {},
   "outputs": [],
   "source": [
    "fig,ax = plt.subplots(1,2,figsize=(20,10))\n",
    "\n",
    "\n",
    "ax[0].plot(hist_axis_centers,signal_frac)\n",
    "ax[0].set_ylim(-0.1,1)\n",
    "ax[0].set_xlim(-10,10)\n",
    "ax[0].grid()\n",
    "\n",
    "ax[1].hist2d(theta_unknown_S_withback[theta_unknown_S_withback!=dummyval],\n",
    "         w_data_bgsub_only,\n",
    "         density=True,\n",
    "         bins=250,\n",
    "         range=([-10,10],[-0.1,1]),\n",
    "         norm=mpl.colors.LogNorm())\n",
    "ax[1].grid()\n",
    "\n",
    "plt.show()"
   ]
  },
  {
   "cell_type": "code",
   "execution_count": null,
   "metadata": {},
   "outputs": [],
   "source": []
  },
  {
   "cell_type": "code",
   "execution_count": null,
   "metadata": {},
   "outputs": [],
   "source": []
  },
  {
   "cell_type": "code",
   "execution_count": null,
   "metadata": {},
   "outputs": [],
   "source": []
  },
  {
   "cell_type": "code",
   "execution_count": null,
   "metadata": {},
   "outputs": [],
   "source": []
  },
  {
   "cell_type": "code",
   "execution_count": null,
   "metadata": {},
   "outputs": [],
   "source": []
  },
  {
   "cell_type": "code",
   "execution_count": null,
   "metadata": {},
   "outputs": [],
   "source": []
  },
  {
   "cell_type": "code",
   "execution_count": null,
   "metadata": {},
   "outputs": [],
   "source": [
    "of_training_history = np.zeros(shape=(4,2,1000))\n",
    "of_training_history_val = np.zeros(shape=(4,2,1000))\n"
   ]
  },
  {
   "cell_type": "markdown",
   "metadata": {},
   "source": [
    "## OmniFold part starts here"
   ]
  },
  {
   "cell_type": "code",
   "execution_count": null,
   "metadata": {},
   "outputs": [],
   "source": [
    "# initial iterative weights are ones\n",
    "weights_pull = np.ones(len(theta0_S))\n",
    "weights_push = np.ones(len(theta0_S))\n",
    "\n",
    "#-- owen: adding this\n",
    "weights_push_last_iteration = np.ones(len(theta0_S))"
   ]
  },
  {
   "cell_type": "code",
   "execution_count": null,
   "metadata": {},
   "outputs": [],
   "source": [
    "xvals_1 = np.concatenate((theta0_S, theta_unknown_S_withback[theta_unknown_S_withback!=dummyval]))\n",
    "yvals_1 = np.concatenate((labels0, np.ones(len(theta_unknown_S_withback[theta_unknown_S_withback!=dummyval]))))"
   ]
  },
  {
   "cell_type": "code",
   "execution_count": null,
   "metadata": {
    "ExecuteTime": {
     "end_time": "2020-11-17T04:28:20.621248Z",
     "start_time": "2020-11-17T03:49:29.711813Z"
    },
    "scrolled": true
   },
   "outputs": [],
   "source": [
    "%%time\n",
    "\n",
    "for i in range(iterations):\n",
    "    print(\"\\n\\n\\nITERATION: {}\\n\".format(i + 1))\n",
    "\n",
    "    \n",
    "    \n",
    "    \n",
    "    weights_push_last_iteration = weights_push\n",
    "    \n",
    "    \n",
    "    # STEP 1: classify Sim. (which is reweighted by weights_push) to Data\n",
    "    # weights reweighted Sim. --> Data\n",
    "    print(\"\\n\\n\\n Iteration %d,  STEP 1, events that pass reco\\n\\n\\n\" % (i+1))\n",
    "    \n",
    "\n",
    "    weights_1 = np.concatenate((weights_push, w_data))\n",
    "    #QUESTION: concatenation here confuses me\n",
    "    # actual weights for Sim., ones for Data (not MC weights)\n",
    "\n",
    "    X_train_1, X_test_1, Y_train_1, Y_test_1, w_train_1, w_test_1 = train_test_split(\n",
    "        xvals_1, yvals_1, weights_1) #REMINDER: made up of synthetic+measured\n",
    "\n",
    "#    model.compile(loss='binary_crossentropy',\n",
    "#                  optimizer='Adam',\n",
    "#                  metrics=['accuracy'])\n",
    "\n",
    "    model.compile(loss='binary_crossentropy',\n",
    "                  optimizer=the_optimizer,\n",
    "                  metrics=['accuracy'],\n",
    "                  weighted_metrics=[])    \n",
    "    \n",
    "    this_hist = model.fit(X_train_1[X_train_1!=dummyval],\n",
    "              Y_train_1[X_train_1!=dummyval],\n",
    "              sample_weight=w_train_1[X_train_1!=dummyval],\n",
    "              epochs=max_epochs,\n",
    "              batch_size=batch_size_setval,\n",
    "              validation_data=(X_test_1[X_test_1!=dummyval], Y_test_1[X_test_1!=dummyval], w_test_1[X_test_1!=dummyval]),\n",
    "              callbacks=[earlystopping],\n",
    "              verbose=1)\n",
    "\n",
    "    for ei in range(0,len(this_hist.history['loss'])):\n",
    "        of_training_history[i,0,ei] = this_hist.history['loss'][ei]\n",
    "        of_training_history_val[i,0,ei] = this_hist.history['val_loss'][ei]\n",
    "    \n",
    "    \n",
    "    weights_pull = weights_push * reweight(theta0_S) \n",
    "    #QUESTION: above model used in reweight function (model.predict)?\n",
    "    #QUESTION: Model trains until synthetic is indistinguishable from data? How does this work? \n",
    "    #How are weights then iteratively multiplied?\n",
    " \n",
    "\n",
    "    ##-- owen: save NN output for each iteration, step.\n",
    "    nn_output[i,0,:] = np.squeeze(  model.predict(theta0_S, batch_size=10000) )\n",
    "\n",
    "\n",
    "    \n",
    "    \n",
    "    \n",
    "    \n",
    "\n",
    "\n",
    "    print(\"\\n\\n\\n Iteration %d,  STEP 1, events that do NOT pass reco\\n\\n\\n\" % (i+1))\n",
    "\n",
    "    ###\n",
    "    #Need to do something with events that don't pass reco.\n",
    "    \n",
    "    #One option is to take the prior:\n",
    "    #weights_pull[theta0_S==dummyval] = 1. \n",
    "    \n",
    "    #Another option is to assign the average weight: <w|x_true>.  To do this, we need to estimate this quantity.\n",
    "    xvals_1b = np.concatenate([theta0_G[theta0_S!=dummyval],theta0_G[theta0_S!=dummyval]])\n",
    "    yvals_1b = np.concatenate([np.ones(len(theta0_G[theta0_S!=dummyval])),np.zeros(len(theta0_G[theta0_S!=dummyval]))])\n",
    "    weights_1b = np.concatenate([weights_pull[theta0_S!=dummyval],np.ones(len(theta0_G[theta0_S!=dummyval]))])\n",
    "    \n",
    "    X_train_1b, X_test_1b, Y_train_1b, Y_test_1b, w_train_1b, w_test_1b = train_test_split(\n",
    "        xvals_1b, yvals_1b, weights_1b)    \n",
    "    \n",
    "#    model.compile(loss='binary_crossentropy',\n",
    "#                  optimizer='Adam',\n",
    "#                  metrics=['accuracy'])\n",
    "    \n",
    "    model.compile(loss='binary_crossentropy',\n",
    "                  optimizer=the_optimizer,\n",
    "                  metrics=['accuracy'],\n",
    "                  weighted_metrics=[])\n",
    "    \n",
    "    \n",
    "    this_hist = model.fit(X_train_1b,\n",
    "              Y_train_1b,\n",
    "              sample_weight=w_train_1b,\n",
    "              epochs=max_epochs,\n",
    "              batch_size=batch_size_setval,\n",
    "              validation_data=(X_test_1b, Y_test_1b, w_test_1b),\n",
    "              callbacks=[earlystopping],\n",
    "              verbose=1)\n",
    "\n",
    "\n",
    "        \n",
    "        \n",
    "        \n",
    "        \n",
    "        \n",
    "        \n",
    "        \n",
    "    \n",
    "    \n",
    "    \n",
    "    \n",
    "    average_vals = reweight(theta0_G[theta0_S==dummyval])\n",
    "    weights_pull[theta0_S==dummyval] = average_vals\n",
    "    ###\n",
    "    \n",
    "    \n",
    "    ##-- owen: the syntax below is a bit confusing.\n",
    "    #          it is equivalent to weights[i,0,:] I think.  See Python-syntax-testing notebook.\n",
    "    weights[i, :1, :] = weights_pull\n",
    "    \n",
    "    \n",
    "    \n",
    "    \n",
    "    \n",
    "    \n",
    "    \n",
    "    \n",
    "    \n",
    "    ##-----------------------------------------------------------------------\n",
    "    \n",
    "    \n",
    "    \n",
    "\n",
    "    # STEP 2: classify Gen. to reweighted Gen. (which is reweighted by weights_pull)\n",
    "    # weights Gen. --> reweighted Gen.\n",
    "    print(\"\\n\\n\\n Iteration %d,  STEP 2, events that pass reco\\n\\n\\n\" % (i+1))\n",
    "\n",
    "    #weights_2 = np.concatenate((np.ones(len(theta0_G)), weights_pull))\n",
    "    # ones for Gen. (not MC weights), actual weights for (reweighted) Gen.\n",
    "    \n",
    "    ##-- owen: this is the way it's done in the papers (I think).\n",
    "    #          At this point weights_push should still have the values from the end of the last iteration.\n",
    "    weights_2 = np.concatenate((weights_push, weights_pull))\n",
    "    \n",
    "    \n",
    "    \n",
    "\n",
    "    X_train_2, X_test_2, Y_train_2, Y_test_2, w_train_2, w_test_2 = train_test_split(\n",
    "        xvals_2, yvals_2, weights_2)\n",
    "\n",
    "#    model.compile(loss='binary_crossentropy',\n",
    "#                  optimizer='Adam',\n",
    "#                  metrics=['accuracy'])\n",
    "    \n",
    "\n",
    "    model.compile(loss='binary_crossentropy',\n",
    "                  optimizer=the_optimizer,\n",
    "                  metrics=['accuracy'],\n",
    "                  weighted_metrics=[])    \n",
    "    \n",
    "    this_hist = model.fit(X_train_2,\n",
    "              Y_train_2,\n",
    "              sample_weight=w_train_2,\n",
    "              epochs=max_epochs,\n",
    "              batch_size=batch_size_setval,\n",
    "              validation_data=(X_test_2, Y_test_2, w_test_2),\n",
    "              callbacks=[earlystopping],\n",
    "              verbose=1)\n",
    "\n",
    "    for ei in range(0,len(this_hist.history['loss'])):\n",
    "        of_training_history[i,1,ei] = this_hist.history['loss'][ei]\n",
    "        of_training_history_val[i,1,ei] = this_hist.history['val_loss'][ei]        \n",
    "    \n",
    "    \n",
    "    \n",
    "    #weights_push = reweight(theta0_G)    \n",
    "    \n",
    "    \n",
    "    #-- owen: this is the way it's done in the papers (I think)\n",
    "    weights_push = weights_push * reweight(theta0_G)    \n",
    "    \n",
    "    \n",
    "    \n",
    "    \n",
    "    \n",
    "    ##-- owen: save NN output for each iteration, step.\n",
    "    nn_output[i,1,:] = np.squeeze(  model.predict(theta0_G, batch_size=10000) )\n",
    "    \n",
    "    \n",
    "    print(\"\\n\\n\\n Iteration %d,  STEP 2, events that do NOT pass reco\\n\\n\\n\" % (i+1))\n",
    "    \n",
    "\n",
    "    ###\n",
    "    #Need to do something with events that don't pass truth    \n",
    "    \n",
    "    #One option is to take the prior:\n",
    "    #weights_push[theta0_G==dummyval] = 1. \n",
    "    \n",
    "    #Another option is to assign the average weight: <w|x_reco>.  To do this, we need to estimate this quantity.\n",
    "    xvals_1b = np.concatenate([theta0_S[theta0_G!=dummyval],theta0_S[theta0_G!=dummyval]])\n",
    "    yvals_1b = np.concatenate([np.ones(len(theta0_S[theta0_G!=dummyval])),np.zeros(len(theta0_S[theta0_G!=dummyval]))])\n",
    "    weights_1b = np.concatenate([weights_push[theta0_G!=dummyval],np.ones(len(theta0_S[theta0_G!=dummyval]))])\n",
    "    \n",
    "    X_train_1b, X_test_1b, Y_train_1b, Y_test_1b, w_train_1b, w_test_1b = train_test_split(\n",
    "        xvals_1b, yvals_1b, weights_1b)    \n",
    "    \n",
    "    \n",
    "    \n",
    "#    model.compile(loss='binary_crossentropy',\n",
    "#                  optimizer='Adam',\n",
    "#                  metrics=['accuracy'])\n",
    "    \n",
    "    model.compile(loss='binary_crossentropy',\n",
    "                  optimizer=the_optimizer,\n",
    "                  metrics=['accuracy'],\n",
    "                  weighted_metrics=[])    \n",
    "\n",
    "    \n",
    "    \n",
    "    model.fit(X_train_1b,\n",
    "              Y_train_1b,\n",
    "              sample_weight=w_train_1b,\n",
    "              epochs=max_epochs,\n",
    "              batch_size=batch_size_setval,\n",
    "              validation_data=(X_test_1b, Y_test_1b, w_test_1b),\n",
    "              callbacks=[earlystopping],\n",
    "              verbose=1)\n",
    "    \n",
    "    average_vals = reweight(theta0_S[theta0_G==dummyval])\n",
    "    weights_push[theta0_G==dummyval] = average_vals\n",
    "    ###    \n",
    "\n",
    "    \n",
    "    ##-- owen: the syntax below is a bit confusing.\n",
    "    #          it is equivalent to weights[i,1,:] I think.  See Python-syntax-testing notebook.\n",
    "    \n",
    "    weights[i, 1:2, :] = weights_push\n",
    "    \n",
    "    \n",
    "    \n",
    "    \n",
    "    \n",
    "    \n",
    "    \n",
    "    \n",
    "    \n",
    "    "
   ]
  },
  {
   "cell_type": "code",
   "execution_count": null,
   "metadata": {},
   "outputs": [],
   "source": []
  },
  {
   "cell_type": "code",
   "execution_count": null,
   "metadata": {
    "ExecuteTime": {
     "end_time": "2020-11-17T04:28:25.400950Z",
     "start_time": "2020-11-17T04:28:20.626783Z"
    },
    "scrolled": false
   },
   "outputs": [],
   "source": [
    "bins = np.linspace(-4, 4, 41)\n",
    "\n",
    "plt.figure(figsize=(12, 5))\n",
    "\n",
    "fig, ax = plt.subplots(1,\n",
    "                       2,\n",
    "                       figsize=(12, 6),\n",
    "                       constrained_layout=True,\n",
    "                       sharey=True)\n",
    "\n",
    "#Detector-level\n",
    "ax[0].set_title(\"Initialization, Detector-level\",style='italic',loc='right')\n",
    "hist0 = ax[0].hist(theta0_S[theta0_S!=dummyval],\n",
    "                 bins=bins,\n",
    "                 color=\"orange\",\n",
    "                 label=r'($\\mu$, $\\sigma$) = {}'.format(theta0_param),\n",
    "                 **plot_style_2)\n",
    "\n",
    "_,_,_= ax[0].hist(\n",
    "    theta0_S[theta0_S!=0],\n",
    "    bins=bins,\n",
    "    label='($\\mu$, $\\sigma$) = {}\\nDCTR wgt.'.format(theta0_param),\n",
    "    **plot_style_1)\n",
    "_,_,_= ax[0].hist(theta_unknown_S[theta_unknown_S!=dummyval],\n",
    "                 bins=bins,\n",
    "                 label=r'($\\mu$, $\\sigma$) = ?',\n",
    "                 weights=weights[i, 0, :][theta_unknown_S!=dummyval],\n",
    "                 **plot_style_2,\n",
    "                color=\"black\")\n",
    "ax[0].legend(frameon=False)\n",
    "ax[0].set_xlabel(r\"$x_S$\")\n",
    "ax[0].set_ylabel(\"Events per bin\")\n",
    "\n",
    "#Particle-level\n",
    "ax[1].set_title(\"Initialization, Particle-level\",style='italic',loc='right')\n",
    "_,_,_=ax[1].hist(theta0_G[theta0_G!=dummyval],\n",
    "                 bins=bins,\n",
    "                 label=r'($\\mu$, $\\sigma$) = {}'.format(theta0_param),\n",
    "                 **plot_style_2)\n",
    "\n",
    "_,_,_= ax[1].hist(\n",
    "    theta0_G[theta0_G!=0],\n",
    "    bins=bins,\n",
    "    label='($\\mu$, $\\sigma$) = {}\\nDCTR wgt.'.format(theta0_param),\n",
    "    **plot_style_1)\n",
    "_,_,_= ax[1].hist(theta_unknown_G[theta_unknown_G!=dummyval],\n",
    "                 bins=bins,\n",
    "                 label=r'($\\mu$, $\\sigma$) = ?',\n",
    "                 **plot_style_2,\n",
    "                color=\"green\")\n",
    "ax[1].legend(frameon=False)\n",
    "ax[1].set_xlabel(r\"$x_G$\")\n",
    "ax[1].set_ylabel(\"Events per bin\")\n",
    "\n",
    "plt.savefig(\"plot_0.pdf\")\n",
    "\n",
    "#Iterations\n",
    "for i in range(iterations):\n",
    "    print(\"ITERATION {}:\".format(i + 1))\n",
    "    plt.figure(figsize=(12, 5))\n",
    "    \n",
    "    fig, ax = plt.subplots(1,2,\n",
    "                       figsize=(12, 6),\n",
    "                       constrained_layout=True,\n",
    "                       sharey=True)\n",
    "    \n",
    "    #Detector-level\n",
    "    ax[0].set_title(\"Iteration \" +str(i+1)+ \", Step 1\",style='italic',loc='right')\n",
    "    _,_,_ = ax[0].hist(theta0_S[theta0_S!=dummyval],\n",
    "                     bins=bins,\n",
    "                     label=r'($\\mu$, $\\sigma$) = {}'.format(theta0_param),\n",
    "                     color=\"orange\",\n",
    "                     **plot_style_2)\n",
    "\n",
    "    _,_,_ = ax[0].hist(\n",
    "        theta0_S[theta0_S!=dummyval],\n",
    "        bins=bins,\n",
    "        label='($\\mu$, $\\sigma$) = {}\\nDCTR wgt.'.format(theta0_param),\n",
    "        weights=weights[i, 0, :][theta0_S!=dummyval],\n",
    "        **plot_style_1)\n",
    "    _,_,_ = ax[0].hist(theta_unknown_S[theta_unknown_S!=dummyval],\n",
    "                     bins=bins,\n",
    "                     label=r'($\\mu$, $\\sigma$) = ?',\n",
    "                     **plot_style_2,\n",
    "                    color=\"black\")\n",
    "    ax[0].legend(frameon=False)\n",
    "    ax[0].set_xlabel(r\"$x_S$\")\n",
    "    ax[0].set_ylabel(\"Events per bin\")\n",
    "    \n",
    "    #Particle-level\n",
    "    ax[1].set_title(\"Iteration \" +str(i+1)+ \", Step 2\",style='italic',loc='right')\n",
    "    _,_,_ = ax[1].hist(theta0_G[theta0_G!=dummyval],\n",
    "                     bins=bins,\n",
    "                     label=r'($\\mu$, $\\sigma$) = {}'.format(theta0_param),\n",
    "                     **plot_style_2)\n",
    "\n",
    "    _,_,_ = ax[1].hist(\n",
    "        theta0_G[theta0_G!=dummyval],\n",
    "        bins=bins,\n",
    "        label='($\\mu$, $\\sigma$) = {}\\nDCTR wgt.'.format(theta0_param),\n",
    "        weights=weights[i, 1, :][theta0_G!=dummyval],\n",
    "        **plot_style_1)\n",
    "    _,_,_ = ax[1].hist(theta_unknown_G[theta_unknown_G!=dummyval],\n",
    "                     bins=bins,\n",
    "                     label=r'($\\mu$, $\\sigma$) = ?',\n",
    "                     **plot_style_2,\n",
    "                    color=\"green\")\n",
    "    ax[1].legend(frameon=False)\n",
    "    ax[1].set_xlabel(r\"$x_G$\")\n",
    "    ax[1].set_ylabel(\"Events per bin\")\n",
    "    \n",
    "    plt.savefig(\"plot_\"+str(i+1)+\".pdf\")"
   ]
  },
  {
   "cell_type": "code",
   "execution_count": null,
   "metadata": {},
   "outputs": [],
   "source": []
  },
  {
   "cell_type": "code",
   "execution_count": null,
   "metadata": {},
   "outputs": [],
   "source": []
  },
  {
   "cell_type": "code",
   "execution_count": null,
   "metadata": {},
   "outputs": [],
   "source": []
  },
  {
   "cell_type": "markdown",
   "metadata": {},
   "source": [
    "## Owen: inspecting a few things after running everything"
   ]
  },
  {
   "cell_type": "code",
   "execution_count": null,
   "metadata": {},
   "outputs": [],
   "source": [
    "weights"
   ]
  },
  {
   "cell_type": "code",
   "execution_count": null,
   "metadata": {},
   "outputs": [],
   "source": [
    "weights.shape"
   ]
  },
  {
   "cell_type": "code",
   "execution_count": null,
   "metadata": {},
   "outputs": [],
   "source": [
    "Input"
   ]
  },
  {
   "cell_type": "code",
   "execution_count": null,
   "metadata": {},
   "outputs": [],
   "source": [
    "Model"
   ]
  },
  {
   "cell_type": "code",
   "execution_count": null,
   "metadata": {},
   "outputs": [],
   "source": [
    "x_data_and_MCback"
   ]
  },
  {
   "cell_type": "code",
   "execution_count": null,
   "metadata": {},
   "outputs": [],
   "source": [
    "x_data_and_MCback.shape"
   ]
  },
  {
   "cell_type": "code",
   "execution_count": null,
   "metadata": {},
   "outputs": [],
   "source": [
    "y_data_and_MCback"
   ]
  },
  {
   "cell_type": "code",
   "execution_count": null,
   "metadata": {},
   "outputs": [],
   "source": [
    "y_data_and_MCback.shape"
   ]
  },
  {
   "cell_type": "code",
   "execution_count": null,
   "metadata": {},
   "outputs": [],
   "source": [
    "W_data_and_MCback"
   ]
  },
  {
   "cell_type": "code",
   "execution_count": null,
   "metadata": {},
   "outputs": [],
   "source": [
    "W_data_and_MCback.shape"
   ]
  },
  {
   "cell_type": "code",
   "execution_count": null,
   "metadata": {},
   "outputs": [],
   "source": [
    "w_data"
   ]
  },
  {
   "cell_type": "code",
   "execution_count": null,
   "metadata": {},
   "outputs": [],
   "source": [
    "w_data.shape"
   ]
  },
  {
   "cell_type": "code",
   "execution_count": null,
   "metadata": {},
   "outputs": [],
   "source": [
    "theta_unknown_S_withback[theta_unknown_S_withback!=dummyval]"
   ]
  },
  {
   "cell_type": "code",
   "execution_count": null,
   "metadata": {},
   "outputs": [],
   "source": [
    "theta_unknown_S_withback[theta_unknown_S_withback!=dummyval].shape"
   ]
  },
  {
   "cell_type": "code",
   "execution_count": null,
   "metadata": {},
   "outputs": [],
   "source": [
    "fig,ax = plt.subplots(1,1,figsize=(10,10))\n",
    "\n",
    "ax.hist2d(theta_unknown_S_withback[theta_unknown_S_withback!=dummyval],\n",
    "         w_data,\n",
    "         density=True,\n",
    "         bins=200,\n",
    "         norm=mpl.colors.LogNorm())\n",
    "\n",
    "plt.show()"
   ]
  },
  {
   "cell_type": "code",
   "execution_count": null,
   "metadata": {},
   "outputs": [],
   "source": []
  },
  {
   "cell_type": "code",
   "execution_count": null,
   "metadata": {},
   "outputs": [],
   "source": []
  },
  {
   "cell_type": "code",
   "execution_count": null,
   "metadata": {
    "scrolled": false
   },
   "outputs": [],
   "source": [
    "fig,ax = plt.subplots(4,2,figsize=(20,40))\n",
    "\n",
    "for i in range(0,4):\n",
    "    \n",
    "    ax[i][0].plot( of_training_history[i][0][of_training_history[i][0]>0] )\n",
    "    ax[i][0].plot( of_training_history_val[i][0][of_training_history[i][0]>0] )\n",
    "    \n",
    "    ax[i][1].plot( of_training_history[i][1][of_training_history[i][1]>0] )\n",
    "    ax[i][1].plot( of_training_history_val[i][1][of_training_history[i][1]>0] )    \n",
    "    \n",
    "plt.show()"
   ]
  },
  {
   "cell_type": "markdown",
   "metadata": {},
   "source": [
    "## distributions of weights"
   ]
  },
  {
   "cell_type": "markdown",
   "metadata": {},
   "source": [
    "### Weights on full simulation to match data (step1)"
   ]
  },
  {
   "cell_type": "code",
   "execution_count": null,
   "metadata": {
    "scrolled": false
   },
   "outputs": [],
   "source": [
    "fig,ax = plt.subplots(iterations,2,figsize=(20,40))\n",
    "\n",
    "for i in range(0,iterations):\n",
    "    \n",
    "    ax[i][0].hist( weights[i,0,theta0_S!=dummyval], bins=80, range=[0,1.4] )\n",
    "    \n",
    "    ax[i][1].hist2d( theta0_S[theta0_S!=dummyval], weights[i,0,theta0_S!=dummyval], \n",
    "                    bins=200, norm=mpl.colors.LogNorm(),\n",
    "                   range=([-5,5],[0,1.4]))\n",
    "    ax[i][1].grid()\n",
    "    \n",
    "plt.show()"
   ]
  },
  {
   "cell_type": "markdown",
   "metadata": {},
   "source": [
    "### Weights on gen (step2)"
   ]
  },
  {
   "cell_type": "code",
   "execution_count": null,
   "metadata": {
    "scrolled": false
   },
   "outputs": [],
   "source": [
    "fig,ax = plt.subplots(iterations,2,figsize=(20,40))\n",
    "\n",
    "for i in range(0,iterations):\n",
    "    \n",
    "    ax[i][0].hist( weights[i,1,theta0_G!=dummyval], bins=80, range=[0,1.4] )\n",
    "    \n",
    "    ax[i][1].hist2d( theta0_G[theta0_G!=dummyval], weights[i,1,theta0_G!=dummyval], \n",
    "                    bins=200, norm=mpl.colors.LogNorm(),\n",
    "                   range=([-5,5],[0,1.4]))\n",
    "    ax[i][1].grid()\n",
    "    \n",
    "plt.show()"
   ]
  },
  {
   "cell_type": "code",
   "execution_count": null,
   "metadata": {},
   "outputs": [],
   "source": []
  },
  {
   "cell_type": "code",
   "execution_count": null,
   "metadata": {},
   "outputs": [],
   "source": []
  },
  {
   "cell_type": "markdown",
   "metadata": {},
   "source": [
    "## Change in weights on fullsim (step1) between consecutive iterations"
   ]
  },
  {
   "cell_type": "code",
   "execution_count": null,
   "metadata": {},
   "outputs": [],
   "source": [
    "fig,ax = plt.subplots(iterations-1,2,figsize=(20,30))\n",
    "\n",
    "for i in range(0,iterations-1):\n",
    "    \n",
    "    ax[i][0].hist( weights[i+1,0,theta0_S!=dummyval]-weights[i,0,theta0_S!=dummyval], bins=80,\n",
    "                 range=[-0.5,0.5])\n",
    "    \n",
    "    ax[i][1].hist2d( theta0_S[theta0_S!=dummyval], weights[i+1,0,theta0_S!=dummyval]-weights[i,0,theta0_S!=dummyval], \n",
    "                    bins=200, norm=mpl.colors.LogNorm(),\n",
    "                   range=([-5,5],[-0.5,0.5]))\n",
    "    ax[i][1].grid()\n",
    "    \n",
    "plt.show()"
   ]
  },
  {
   "cell_type": "markdown",
   "metadata": {},
   "source": [
    "## Change in weights on gen (step2) between consecutive iterations"
   ]
  },
  {
   "cell_type": "code",
   "execution_count": null,
   "metadata": {},
   "outputs": [],
   "source": [
    "fig,ax = plt.subplots(iterations-1,2,figsize=(20,30))\n",
    "\n",
    "for i in range(0,iterations-1):\n",
    "    \n",
    "    ax[i][0].hist( weights[i+1,1,theta0_G!=dummyval]-weights[i,1,theta0_G!=dummyval], bins=80,\n",
    "                 range=[-0.2,0.2])\n",
    "    \n",
    "    ax[i][1].hist2d( theta0_G[theta0_G!=dummyval], weights[i+1,1,theta0_G!=dummyval]-weights[i,1,theta0_G!=dummyval], \n",
    "                    bins=200, norm=mpl.colors.LogNorm(),\n",
    "                   range=([-5,5],[-0.2,0.2]))\n",
    "    ax[i][1].grid()\n",
    "    \n",
    "plt.show()"
   ]
  },
  {
   "cell_type": "code",
   "execution_count": null,
   "metadata": {},
   "outputs": [],
   "source": []
  },
  {
   "cell_type": "code",
   "execution_count": null,
   "metadata": {},
   "outputs": [],
   "source": [
    "nn_output"
   ]
  },
  {
   "cell_type": "markdown",
   "metadata": {},
   "source": [
    "## Output of NN for step1: distinguish data from fullsim"
   ]
  },
  {
   "cell_type": "code",
   "execution_count": null,
   "metadata": {
    "scrolled": false
   },
   "outputs": [],
   "source": [
    "fig,ax = plt.subplots(iterations,2,figsize=(20,40))\n",
    "\n",
    "for i in range(0,iterations):\n",
    "    \n",
    "    ax[i][0].hist( nn_output[i,0,theta0_S!=dummyval], bins=80, range=[0,1] )\n",
    "    ax[i][0].grid()\n",
    "    \n",
    "    ax[i][1].hist2d( theta0_S[theta0_S!=dummyval], nn_output[i,0,theta0_S!=dummyval], \n",
    "                    bins=200, norm=mpl.colors.LogNorm(),\n",
    "                   range=([-5,5],[0,1]))\n",
    "    ax[i][1].grid()\n",
    "    \n",
    "plt.show()"
   ]
  },
  {
   "cell_type": "code",
   "execution_count": null,
   "metadata": {},
   "outputs": [],
   "source": []
  },
  {
   "cell_type": "markdown",
   "metadata": {},
   "source": [
    "## NN output of step2 : distinguish gen"
   ]
  },
  {
   "cell_type": "code",
   "execution_count": null,
   "metadata": {
    "scrolled": false
   },
   "outputs": [],
   "source": [
    "fig,ax = plt.subplots(iterations,2,figsize=(20,40))\n",
    "\n",
    "for i in range(0,iterations):\n",
    "    \n",
    "    ax[i][0].hist( nn_output[i,1,theta0_G!=dummyval], bins=80, range=[0,1] )\n",
    "    ax[i][0].grid()\n",
    "    \n",
    "    ax[i][1].hist2d( theta0_G[theta0_G!=dummyval], nn_output[i,1,theta0_G!=dummyval], \n",
    "                    bins=200, norm=mpl.colors.LogNorm(),\n",
    "                   range=([-5,5],[0,1]))\n",
    "    ax[i][1].grid()\n",
    "    \n",
    "plt.show()"
   ]
  },
  {
   "cell_type": "code",
   "execution_count": null,
   "metadata": {},
   "outputs": [],
   "source": []
  },
  {
   "cell_type": "code",
   "execution_count": null,
   "metadata": {},
   "outputs": [],
   "source": []
  },
  {
   "cell_type": "code",
   "execution_count": null,
   "metadata": {},
   "outputs": [],
   "source": []
  },
  {
   "cell_type": "code",
   "execution_count": null,
   "metadata": {},
   "outputs": [],
   "source": []
  }
 ],
 "metadata": {
  "kernelspec": {
   "display_name": "Python 3 (ipykernel)",
   "language": "python",
   "name": "python3"
  },
  "language_info": {
   "codemirror_mode": {
    "name": "ipython",
    "version": 3
   },
   "file_extension": ".py",
   "mimetype": "text/x-python",
   "name": "python",
   "nbconvert_exporter": "python",
   "pygments_lexer": "ipython3",
   "version": "3.10.6"
  },
  "notify_time": "0",
  "toc": {
   "base_numbering": 1,
   "nav_menu": {},
   "number_sections": false,
   "sideBar": true,
   "skip_h1_title": false,
   "title_cell": "Table of Contents",
   "title_sidebar": "Contents",
   "toc_cell": false,
   "toc_position": {},
   "toc_section_display": true,
   "toc_window_display": false
  }
 },
 "nbformat": 4,
 "nbformat_minor": 4
}
