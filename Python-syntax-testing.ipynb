{
 "cells": [
  {
   "cell_type": "code",
   "execution_count": 1,
   "id": "9ff85024",
   "metadata": {},
   "outputs": [],
   "source": [
    "import numpy as np\n",
    "from matplotlib import pyplot as plt"
   ]
  },
  {
   "cell_type": "code",
   "execution_count": 10,
   "id": "1d1babae",
   "metadata": {},
   "outputs": [],
   "source": [
    "weights = np.zeros(shape=(4,2,20), dtype=int)"
   ]
  },
  {
   "cell_type": "code",
   "execution_count": 11,
   "id": "4f3e0070",
   "metadata": {},
   "outputs": [
    {
     "data": {
      "text/plain": [
       "array([[[0, 0, 0, 0, 0, 0, 0, 0, 0, 0, 0, 0, 0, 0, 0, 0, 0, 0, 0, 0],\n",
       "        [0, 0, 0, 0, 0, 0, 0, 0, 0, 0, 0, 0, 0, 0, 0, 0, 0, 0, 0, 0]],\n",
       "\n",
       "       [[0, 0, 0, 0, 0, 0, 0, 0, 0, 0, 0, 0, 0, 0, 0, 0, 0, 0, 0, 0],\n",
       "        [0, 0, 0, 0, 0, 0, 0, 0, 0, 0, 0, 0, 0, 0, 0, 0, 0, 0, 0, 0]],\n",
       "\n",
       "       [[0, 0, 0, 0, 0, 0, 0, 0, 0, 0, 0, 0, 0, 0, 0, 0, 0, 0, 0, 0],\n",
       "        [0, 0, 0, 0, 0, 0, 0, 0, 0, 0, 0, 0, 0, 0, 0, 0, 0, 0, 0, 0]],\n",
       "\n",
       "       [[0, 0, 0, 0, 0, 0, 0, 0, 0, 0, 0, 0, 0, 0, 0, 0, 0, 0, 0, 0],\n",
       "        [0, 0, 0, 0, 0, 0, 0, 0, 0, 0, 0, 0, 0, 0, 0, 0, 0, 0, 0, 0]]])"
      ]
     },
     "execution_count": 11,
     "metadata": {},
     "output_type": "execute_result"
    }
   ],
   "source": [
    "weights"
   ]
  },
  {
   "cell_type": "code",
   "execution_count": 22,
   "id": "af7af720",
   "metadata": {},
   "outputs": [
    {
     "name": "stdout",
     "output_type": "stream",
     "text": [
      "0\n",
      "0,0\n",
      "0,0,0\n",
      "0,0,1\n",
      "0,0,2\n",
      "0,0,3\n",
      "0,0,4\n",
      "0,0,5\n",
      "0,0,6\n",
      "0,0,7\n",
      "0,0,8\n",
      "0,0,9\n",
      "0,0,10\n",
      "0,0,11\n",
      "0,0,12\n",
      "0,0,13\n",
      "0,0,14\n",
      "0,0,15\n",
      "0,0,16\n",
      "0,0,17\n",
      "0,0,18\n",
      "0,0,19\n",
      "0,1\n",
      "0,1,0\n",
      "0,1,1\n",
      "0,1,2\n",
      "0,1,3\n",
      "0,1,4\n",
      "0,1,5\n",
      "0,1,6\n",
      "0,1,7\n",
      "0,1,8\n",
      "0,1,9\n",
      "0,1,10\n",
      "0,1,11\n",
      "0,1,12\n",
      "0,1,13\n",
      "0,1,14\n",
      "0,1,15\n",
      "0,1,16\n",
      "0,1,17\n",
      "0,1,18\n",
      "0,1,19\n",
      "1\n",
      "1,0\n",
      "1,0,0\n",
      "1,0,1\n",
      "1,0,2\n",
      "1,0,3\n",
      "1,0,4\n",
      "1,0,5\n",
      "1,0,6\n",
      "1,0,7\n",
      "1,0,8\n",
      "1,0,9\n",
      "1,0,10\n",
      "1,0,11\n",
      "1,0,12\n",
      "1,0,13\n",
      "1,0,14\n",
      "1,0,15\n",
      "1,0,16\n",
      "1,0,17\n",
      "1,0,18\n",
      "1,0,19\n",
      "1,1\n",
      "1,1,0\n",
      "1,1,1\n",
      "1,1,2\n",
      "1,1,3\n",
      "1,1,4\n",
      "1,1,5\n",
      "1,1,6\n",
      "1,1,7\n",
      "1,1,8\n",
      "1,1,9\n",
      "1,1,10\n",
      "1,1,11\n",
      "1,1,12\n",
      "1,1,13\n",
      "1,1,14\n",
      "1,1,15\n",
      "1,1,16\n",
      "1,1,17\n",
      "1,1,18\n",
      "1,1,19\n",
      "2\n",
      "2,0\n",
      "2,0,0\n",
      "2,0,1\n",
      "2,0,2\n",
      "2,0,3\n",
      "2,0,4\n",
      "2,0,5\n",
      "2,0,6\n",
      "2,0,7\n",
      "2,0,8\n",
      "2,0,9\n",
      "2,0,10\n",
      "2,0,11\n",
      "2,0,12\n",
      "2,0,13\n",
      "2,0,14\n",
      "2,0,15\n",
      "2,0,16\n",
      "2,0,17\n",
      "2,0,18\n",
      "2,0,19\n",
      "2,1\n",
      "2,1,0\n",
      "2,1,1\n",
      "2,1,2\n",
      "2,1,3\n",
      "2,1,4\n",
      "2,1,5\n",
      "2,1,6\n",
      "2,1,7\n",
      "2,1,8\n",
      "2,1,9\n",
      "2,1,10\n",
      "2,1,11\n",
      "2,1,12\n",
      "2,1,13\n",
      "2,1,14\n",
      "2,1,15\n",
      "2,1,16\n",
      "2,1,17\n",
      "2,1,18\n",
      "2,1,19\n",
      "3\n",
      "3,0\n",
      "3,0,0\n",
      "3,0,1\n",
      "3,0,2\n",
      "3,0,3\n",
      "3,0,4\n",
      "3,0,5\n",
      "3,0,6\n",
      "3,0,7\n",
      "3,0,8\n",
      "3,0,9\n",
      "3,0,10\n",
      "3,0,11\n",
      "3,0,12\n",
      "3,0,13\n",
      "3,0,14\n",
      "3,0,15\n",
      "3,0,16\n",
      "3,0,17\n",
      "3,0,18\n",
      "3,0,19\n",
      "3,1\n",
      "3,1,0\n",
      "3,1,1\n",
      "3,1,2\n",
      "3,1,3\n",
      "3,1,4\n",
      "3,1,5\n",
      "3,1,6\n",
      "3,1,7\n",
      "3,1,8\n",
      "3,1,9\n",
      "3,1,10\n",
      "3,1,11\n",
      "3,1,12\n",
      "3,1,13\n",
      "3,1,14\n",
      "3,1,15\n",
      "3,1,16\n",
      "3,1,17\n",
      "3,1,18\n",
      "3,1,19\n"
     ]
    }
   ],
   "source": [
    "for i in range(0,4):\n",
    "    print(i)\n",
    "    for j in range(0,2):\n",
    "        print( \"%d,%d\" % (i,j))\n",
    "        for k in range(0,20):\n",
    "            print( \"%d,%d,%d\" % (i,j,k))\n",
    "            weights[i,j,k] = 10000*(i+1) + 1000*j + k"
   ]
  },
  {
   "cell_type": "code",
   "execution_count": 23,
   "id": "38088a0c",
   "metadata": {},
   "outputs": [
    {
     "data": {
      "text/plain": [
       "array([[[10000, 10001, 10002, 10003, 10004, 10005, 10006, 10007, 10008,\n",
       "         10009, 10010, 10011, 10012, 10013, 10014, 10015, 10016, 10017,\n",
       "         10018, 10019],\n",
       "        [11000, 11001, 11002, 11003, 11004, 11005, 11006, 11007, 11008,\n",
       "         11009, 11010, 11011, 11012, 11013, 11014, 11015, 11016, 11017,\n",
       "         11018, 11019]],\n",
       "\n",
       "       [[20000, 20001, 20002, 20003, 20004, 20005, 20006, 20007, 20008,\n",
       "         20009, 20010, 20011, 20012, 20013, 20014, 20015, 20016, 20017,\n",
       "         20018, 20019],\n",
       "        [21000, 21001, 21002, 21003, 21004, 21005, 21006, 21007, 21008,\n",
       "         21009, 21010, 21011, 21012, 21013, 21014, 21015, 21016, 21017,\n",
       "         21018, 21019]],\n",
       "\n",
       "       [[30000, 30001, 30002, 30003, 30004, 30005, 30006, 30007, 30008,\n",
       "         30009, 30010, 30011, 30012, 30013, 30014, 30015, 30016, 30017,\n",
       "         30018, 30019],\n",
       "        [31000, 31001, 31002, 31003, 31004, 31005, 31006, 31007, 31008,\n",
       "         31009, 31010, 31011, 31012, 31013, 31014, 31015, 31016, 31017,\n",
       "         31018, 31019]],\n",
       "\n",
       "       [[40000, 40001, 40002, 40003, 40004, 40005, 40006, 40007, 40008,\n",
       "         40009, 40010, 40011, 40012, 40013, 40014, 40015, 40016, 40017,\n",
       "         40018, 40019],\n",
       "        [41000, 41001, 41002, 41003, 41004, 41005, 41006, 41007, 41008,\n",
       "         41009, 41010, 41011, 41012, 41013, 41014, 41015, 41016, 41017,\n",
       "         41018, 41019]]])"
      ]
     },
     "execution_count": 23,
     "metadata": {},
     "output_type": "execute_result"
    }
   ],
   "source": [
    "weights"
   ]
  },
  {
   "cell_type": "code",
   "execution_count": 24,
   "id": "4dce1aa5",
   "metadata": {},
   "outputs": [
    {
     "data": {
      "text/plain": [
       "array([10000, 10001, 10002, 10003, 10004, 10005, 10006, 10007, 10008,\n",
       "       10009, 10010, 10011, 10012, 10013, 10014, 10015, 10016, 10017,\n",
       "       10018, 10019])"
      ]
     },
     "execution_count": 24,
     "metadata": {},
     "output_type": "execute_result"
    }
   ],
   "source": [
    "weights[0,0,:]"
   ]
  },
  {
   "cell_type": "code",
   "execution_count": 25,
   "id": "81ee370d",
   "metadata": {},
   "outputs": [
    {
     "data": {
      "text/plain": [
       "array([[11000, 11001, 11002, 11003, 11004, 11005, 11006, 11007, 11008,\n",
       "        11009, 11010, 11011, 11012, 11013, 11014, 11015, 11016, 11017,\n",
       "        11018, 11019]])"
      ]
     },
     "execution_count": 25,
     "metadata": {},
     "output_type": "execute_result"
    }
   ],
   "source": [
    "weights[0,1:2,:]"
   ]
  },
  {
   "cell_type": "code",
   "execution_count": 26,
   "id": "dba52548",
   "metadata": {},
   "outputs": [
    {
     "data": {
      "text/plain": [
       "array([11000, 11001, 11002, 11003, 11004, 11005, 11006, 11007, 11008,\n",
       "       11009, 11010, 11011, 11012, 11013, 11014, 11015, 11016, 11017,\n",
       "       11018, 11019])"
      ]
     },
     "execution_count": 26,
     "metadata": {},
     "output_type": "execute_result"
    }
   ],
   "source": [
    "weights[0,1,:]"
   ]
  },
  {
   "cell_type": "code",
   "execution_count": 27,
   "id": "6e8c060c",
   "metadata": {},
   "outputs": [
    {
     "data": {
      "text/plain": [
       "array([[10000, 10001, 10002, 10003, 10004, 10005, 10006, 10007, 10008,\n",
       "        10009, 10010, 10011, 10012, 10013, 10014, 10015, 10016, 10017,\n",
       "        10018, 10019]])"
      ]
     },
     "execution_count": 27,
     "metadata": {},
     "output_type": "execute_result"
    }
   ],
   "source": [
    "weights[0,:1,:]"
   ]
  },
  {
   "cell_type": "code",
   "execution_count": 28,
   "id": "1b7250cf",
   "metadata": {},
   "outputs": [
    {
     "data": {
      "text/plain": [
       "array([10000, 10001, 10002, 10003, 10004, 10005, 10006, 10007, 10008,\n",
       "       10009, 10010, 10011, 10012, 10013, 10014, 10015, 10016, 10017,\n",
       "       10018, 10019])"
      ]
     },
     "execution_count": 28,
     "metadata": {},
     "output_type": "execute_result"
    }
   ],
   "source": [
    "weights[0,0,:]"
   ]
  },
  {
   "cell_type": "code",
   "execution_count": 29,
   "id": "db683328",
   "metadata": {},
   "outputs": [
    {
     "data": {
      "text/plain": [
       "array([[10000, 10001, 10002, 10003, 10004, 10005, 10006, 10007, 10008,\n",
       "        10009, 10010, 10011, 10012, 10013, 10014, 10015, 10016, 10017,\n",
       "        10018, 10019],\n",
       "       [11000, 11001, 11002, 11003, 11004, 11005, 11006, 11007, 11008,\n",
       "        11009, 11010, 11011, 11012, 11013, 11014, 11015, 11016, 11017,\n",
       "        11018, 11019]])"
      ]
     },
     "execution_count": 29,
     "metadata": {},
     "output_type": "execute_result"
    }
   ],
   "source": [
    "weights[0,:2,:]"
   ]
  },
  {
   "cell_type": "code",
   "execution_count": 30,
   "id": "a2af676b",
   "metadata": {},
   "outputs": [
    {
     "data": {
      "text/plain": [
       "array([[10000, 10001, 10002, 10003, 10004, 10005, 10006, 10007, 10008,\n",
       "        10009, 10010, 10011, 10012, 10013, 10014, 10015, 10016, 10017,\n",
       "        10018, 10019]])"
      ]
     },
     "execution_count": 30,
     "metadata": {},
     "output_type": "execute_result"
    }
   ],
   "source": [
    "weights[:1,0,:]"
   ]
  },
  {
   "cell_type": "code",
   "execution_count": 31,
   "id": "bd18d8f7",
   "metadata": {},
   "outputs": [
    {
     "data": {
      "text/plain": [
       "array([[10000, 10001, 10002, 10003, 10004, 10005, 10006, 10007, 10008,\n",
       "        10009, 10010, 10011, 10012, 10013, 10014, 10015, 10016, 10017,\n",
       "        10018, 10019],\n",
       "       [20000, 20001, 20002, 20003, 20004, 20005, 20006, 20007, 20008,\n",
       "        20009, 20010, 20011, 20012, 20013, 20014, 20015, 20016, 20017,\n",
       "        20018, 20019]])"
      ]
     },
     "execution_count": 31,
     "metadata": {},
     "output_type": "execute_result"
    }
   ],
   "source": [
    "weights[:2,0,:]"
   ]
  },
  {
   "cell_type": "code",
   "execution_count": null,
   "id": "363d9e85",
   "metadata": {},
   "outputs": [],
   "source": []
  },
  {
   "cell_type": "code",
   "execution_count": 1,
   "id": "a79d4026",
   "metadata": {},
   "outputs": [
    {
     "name": "stdout",
     "output_type": "stream",
     "text": [
      "CPU times: user 2 µs, sys: 0 ns, total: 2 µs\n",
      "Wall time: 4.29 µs\n"
     ]
    },
    {
     "data": {
      "text/plain": [
       "()"
      ]
     },
     "execution_count": 1,
     "metadata": {},
     "output_type": "execute_result"
    }
   ],
   "source": [
    "time()"
   ]
  },
  {
   "cell_type": "code",
   "execution_count": 4,
   "id": "5b45be51",
   "metadata": {},
   "outputs": [
    {
     "data": {
      "text/plain": [
       "time.struct_time(tm_year=2023, tm_mon=1, tm_mday=27, tm_hour=2, tm_min=7, tm_sec=9, tm_wday=4, tm_yday=27, tm_isdst=0)"
      ]
     },
     "execution_count": 4,
     "metadata": {},
     "output_type": "execute_result"
    }
   ],
   "source": [
    "from time import gmtime, strftime\n",
    "gmtime()"
   ]
  },
  {
   "cell_type": "code",
   "execution_count": 5,
   "id": "97053250",
   "metadata": {},
   "outputs": [
    {
     "name": "stdout",
     "output_type": "stream",
     "text": [
      "2023-01-27 02:07:51\n"
     ]
    }
   ],
   "source": [
    "print (strftime(\"%Y-%m-%d %H:%M:%S\", gmtime()))"
   ]
  },
  {
   "cell_type": "code",
   "execution_count": 7,
   "id": "8d6cf466",
   "metadata": {},
   "outputs": [],
   "source": [
    "import time\n",
    "from stopwatch import Stopwatch, profile"
   ]
  },
  {
   "cell_type": "code",
   "execution_count": 8,
   "id": "96cbf268",
   "metadata": {},
   "outputs": [
    {
     "name": "stdout",
     "output_type": "stream",
     "text": [
      "3.003136900952086\n"
     ]
    }
   ],
   "source": [
    "stopwatch = Stopwatch()\n",
    "stopwatch.start()\n",
    "time.sleep(3.0)\n",
    "stopwatch.stop()\n",
    "print(stopwatch.elapsed)"
   ]
  },
  {
   "cell_type": "code",
   "execution_count": 10,
   "id": "2bed5822",
   "metadata": {},
   "outputs": [],
   "source": [
    "stopwatch.reset()\n"
   ]
  },
  {
   "cell_type": "code",
   "execution_count": 11,
   "id": "6ade8d7b",
   "metadata": {},
   "outputs": [
    {
     "data": {
      "text/plain": [
       "0"
      ]
     },
     "execution_count": 11,
     "metadata": {},
     "output_type": "execute_result"
    }
   ],
   "source": [
    "stopwatch.elapsed"
   ]
  },
  {
   "cell_type": "code",
   "execution_count": 12,
   "id": "57f4bdab",
   "metadata": {},
   "outputs": [],
   "source": [
    "stopwatch.start()"
   ]
  },
  {
   "cell_type": "code",
   "execution_count": 13,
   "id": "4e8d2126",
   "metadata": {},
   "outputs": [
    {
     "data": {
      "text/plain": [
       "6.536700087948702"
      ]
     },
     "execution_count": 13,
     "metadata": {},
     "output_type": "execute_result"
    }
   ],
   "source": [
    "stopwatch.elapsed"
   ]
  },
  {
   "cell_type": "code",
   "execution_count": 14,
   "id": "a0f05f93",
   "metadata": {},
   "outputs": [
    {
     "data": {
      "text/plain": [
       "13.836261246004142"
      ]
     },
     "execution_count": 14,
     "metadata": {},
     "output_type": "execute_result"
    }
   ],
   "source": [
    "stopwatch.elapsed"
   ]
  },
  {
   "cell_type": "code",
   "execution_count": 15,
   "id": "b0175140",
   "metadata": {},
   "outputs": [],
   "source": [
    "stopwatch.stop()\n"
   ]
  },
  {
   "cell_type": "code",
   "execution_count": 16,
   "id": "fee5a66b",
   "metadata": {},
   "outputs": [
    {
     "data": {
      "text/plain": [
       "24.281306307995692"
      ]
     },
     "execution_count": 16,
     "metadata": {},
     "output_type": "execute_result"
    }
   ],
   "source": [
    "stopwatch.elapsed"
   ]
  },
  {
   "cell_type": "code",
   "execution_count": null,
   "id": "d526bda5",
   "metadata": {},
   "outputs": [],
   "source": []
  }
 ],
 "metadata": {
  "kernelspec": {
   "display_name": "Python 3 (ipykernel)",
   "language": "python",
   "name": "python3"
  },
  "language_info": {
   "codemirror_mode": {
    "name": "ipython",
    "version": 3
   },
   "file_extension": ".py",
   "mimetype": "text/x-python",
   "name": "python",
   "nbconvert_exporter": "python",
   "pygments_lexer": "ipython3",
   "version": "3.10.6"
  }
 },
 "nbformat": 4,
 "nbformat_minor": 5
}
